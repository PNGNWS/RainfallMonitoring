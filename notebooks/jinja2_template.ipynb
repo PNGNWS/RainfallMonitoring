{
 "cells": [
  {
   "cell_type": "code",
   "execution_count": 98,
   "metadata": {
    "collapsed": false
   },
   "outputs": [],
   "source": [
    "from jinja2 import Environment"
   ]
  },
  {
   "cell_type": "code",
   "execution_count": 60,
   "metadata": {
    "collapsed": true
   },
   "outputs": [],
   "source": [
    "HTML = \"\"\"\n",
    "<html>\n",
    "<head>\n",
    "<!-- Standard Meta -->\n",
    "<meta charset=\"utf-8\" />\n",
    "<meta http-equiv=\"X-UA-Compatible\" content=\"IE=edge,chrome=1\" />\n",
    "<meta name=\"viewport\" content=\"width=device-width, initial-scale=1.0, maximum-scale=1.0\">\n",
    "<!-- Site Properities -->\n",
    "<title>Virtual Station plot for {{station}}</title>\n",
    "<link rel=\"stylesheet\" type=\"text/css\" href=\"css/semantic.min.css\">\n",
    "</head>\n",
    "\n",
    "<body id=\"home\">\n",
    "<div align=\"center\">\n",
    "<h2 class=\"ui block header center aligned\">\n",
    "  PNG National Weather Service Satellite Rainfall Monitoring\n",
    "</h2>\n",
    "</div>\n",
    "\n",
    "<div align=\"center\">\n",
    "<h3>\n",
    "TRMM / TMPA Virtual Station Plot for {{station}}\n",
    "</h3>\n",
    "</div>\n",
    "\n",
    "<div align=\"center\">\n",
    "<img\n",
    "alt=\"anomalies (in mm/day) for the last 90 days for {{station}}\"\n",
    "title=\"anomalies (in mm/day) for the last 90 days for {{station}}\"\n",
    "width=\"65%\"\n",
    "src=\"https://raw.githubusercontent.com/PNGNWS/RainfallMonitoring/master/images/{{imgfname}}\"/>\n",
    "</div>\n",
    "\n",
    "</body>\n",
    "</html>\n",
    "\n",
    "\"\"\""
   ]
  },
  {
   "cell_type": "code",
   "execution_count": 101,
   "metadata": {
    "collapsed": false
   },
   "outputs": [],
   "source": [
    "def create_html(fname = None, station = None, imgfname = None, printhtml = False):\n",
    "    html_string = Environment().from_string(HTML).render(station=station, imgfname=imgfname)\n",
    "    if printhtml:\n",
    "        print(html_string)\n",
    "    f = open(fname, 'w')\n",
    "    f.write(html_string)\n",
    "    f.close()"
   ]
  },
  {
   "cell_type": "code",
   "execution_count": 102,
   "metadata": {
    "collapsed": false
   },
   "outputs": [],
   "source": [
    "lstations = !ls ../images/*90ndays.png"
   ]
  },
  {
   "cell_type": "code",
   "execution_count": 103,
   "metadata": {
    "collapsed": false
   },
   "outputs": [],
   "source": [
    "for l in lstations: \n",
    "    imgfname = l.split('/')[-1]\n",
    "    htmlfname = imgfname.replace('.png','.html')\n",
    "    station = imgfname[16:].replace(imgfname[-12:],'')\n",
    "    station = station.replace(\"_\",\" \")\n",
    "    create_html(fname = htmlfname, station = station, imgfname = imgfname)"
   ]
  },
  {
   "cell_type": "code",
   "execution_count": null,
   "metadata": {
    "collapsed": true
   },
   "outputs": [],
   "source": []
  }
 ],
 "metadata": {
  "kernelspec": {
   "display_name": "Python 3",
   "language": "python",
   "name": "python3"
  },
  "language_info": {
   "codemirror_mode": {
    "name": "ipython",
    "version": 3
   },
   "file_extension": ".py",
   "mimetype": "text/x-python",
   "name": "python",
   "nbconvert_exporter": "python",
   "pygments_lexer": "ipython3",
   "version": "3.4.3"
  }
 },
 "nbformat": 4,
 "nbformat_minor": 0
}
